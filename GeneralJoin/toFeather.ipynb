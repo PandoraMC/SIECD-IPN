{
 "cells": [
  {
   "cell_type": "code",
   "execution_count": 1,
   "id": "ea5f607f-d92d-49b3-a667-20ba08a94ef5",
   "metadata": {},
   "outputs": [],
   "source": [
    "import geopandas as gpd\n",
    "import os\n",
    "import glob\n",
    "import matplotlib.pyplot as plt\n",
    "import geofeather as gf\n",
    "import pandas as pd"
   ]
  },
  {
   "cell_type": "code",
   "execution_count": null,
   "id": "1f53c7b2-ce10-47a9-8398-6432e47b9089",
   "metadata": {},
   "outputs": [],
   "source": [
    "BASE_DIR = 'Coberturas'\n",
    "BASE_EX = '.TAB'\n",
    "BASE_CRS = 4326"
   ]
  },
  {
   "cell_type": "code",
   "execution_count": null,
   "id": "9768aa8d-b067-4bd0-9035-535468805043",
   "metadata": {},
   "outputs": [
    {
     "name": "stdout",
     "output_type": "stream",
     "text": [
      "CPU times: total: 0 ns\n",
      "Wall time: 212 ms\n"
     ]
    }
   ],
   "source": [
    "%%time\n",
    "strMaps = []\n",
    "for (root, dirs, file) in os.walk(BASE_DIR):\n",
    "    for f in file:\n",
    "        if BASE_EX in f.upper():\n",
    "            strMaps.append(os.path.join(root, f))"
   ]
  },
  {
   "cell_type": "code",
   "execution_count": 4,
   "id": "f6b2bedc-8a13-4396-beb2-d8b0f210f450",
   "metadata": {},
   "outputs": [
    {
     "name": "stdout",
     "output_type": "stream",
     "text": [
      "Coberturas\\Altan 70%\\Cobertura Certificación_V01_Red Compartida_2022_Hito70_Promtel_Completa\\Cobertura Certificación_V01_Red Compartida_2022_Hito70_Promtel_Completa.tab\n",
      "Coberturas\\AT&T\\AT&T\\AT&TSept21 3G_IFT\\Diferenciada _ CobBex & ATT_ALPHA_3G Sept21\\R1Sept21UMTS_Diferenciada&CobEx&ATT_ALPHA.tab\n",
      "Coberturas\\AT&T\\AT&T\\AT&TSept21 3G_IFT\\Diferenciada _ CobBex & ATT_ALPHA_3G Sept21\\R2Sept21UMTS_Diferenciada&CobEx.tab\n",
      "Coberturas\\AT&T\\AT&T\\AT&TSept21 3G_IFT\\Diferenciada _ CobBex & ATT_ALPHA_3G Sept21\\R3Sept21UMTS_Diferenciada&CobEx&ATT_ALPHA.tab\n",
      "Coberturas\\AT&T\\AT&T\\AT&TSept21 3G_IFT\\Diferenciada _ CobBex & ATT_ALPHA_3G Sept21\\R4Sept21UMTS_Diferenciada&CobEx&ATT_ALPHA.tab\n",
      "Coberturas\\AT&T\\AT&T\\AT&TSept21 3G_IFT\\Diferenciada _ CobBex & ATT_ALPHA_3G Sept21\\R5Sept21UMTS_Diferenciada&CobEx.tab\n",
      "Coberturas\\AT&T\\AT&T\\AT&TSept21 3G_IFT\\Diferenciada _ CobBex & ATT_ALPHA_3G Sept21\\R6Sept21UMTS_Diferenciada&CobEx.tab\n",
      "Coberturas\\AT&T\\AT&T\\AT&TSept21 3G_IFT\\Diferenciada _ CobBex & ATT_ALPHA_3G Sept21\\R7Sept21UMTS_Diferenciada&CobEx.tab\n",
      "Coberturas\\AT&T\\AT&T\\AT&TSept21 3G_IFT\\Diferenciada _ CobBex & ATT_ALPHA_3G Sept21\\R8Sept21UMTS_Diferenciada&CobEx.tab\n",
      "Coberturas\\AT&T\\AT&T\\AT&TSept21 3G_IFT\\Diferenciada _ CobBex & ATT_ALPHA_3G Sept21\\R9Sept21UMTS_Diferenciada&CobEx.tab\n",
      "Coberturas\\AT&T\\AT&T\\AT&TSept21 3G_IFT\\Garantizada 3G Sept21\\R1Sept21UMTS_Garantizada.tab\n",
      "Coberturas\\AT&T\\AT&T\\AT&TSept21 3G_IFT\\Garantizada 3G Sept21\\R2Sept21UMTS_Garantizada.tab\n",
      "Coberturas\\AT&T\\AT&T\\AT&TSept21 3G_IFT\\Garantizada 3G Sept21\\R3Sept21UMTS_Garantizada.tab\n",
      "Coberturas\\AT&T\\AT&T\\AT&TSept21 3G_IFT\\Garantizada 3G Sept21\\R4Sept21UMTS_Garantizada.tab\n",
      "Coberturas\\AT&T\\AT&T\\AT&TSept21 3G_IFT\\Garantizada 3G Sept21\\R5Sept21UMTS_Garantizada.tab\n",
      "Coberturas\\AT&T\\AT&T\\AT&TSept21 3G_IFT\\Garantizada 3G Sept21\\R6Sept21UMTS_Garantizada.tab\n",
      "Coberturas\\AT&T\\AT&T\\AT&TSept21 3G_IFT\\Garantizada 3G Sept21\\R7Sept21UMTS_Garantizada.tab\n",
      "Coberturas\\AT&T\\AT&T\\AT&TSept21 3G_IFT\\Garantizada 3G Sept21\\R8Sept21UMTS_Garantizada.tab\n",
      "Coberturas\\AT&T\\AT&T\\AT&TSept21 3G_IFT\\Garantizada 3G Sept21\\R9Sept21UMTS_Garantizada.tab\n",
      "Coberturas\\AT&T\\AT&T\\AT&TSept21LTE_IFT\\Diferenciada _ CobBex & ATT_ALPHA_LTE Sept21\\R1Sept21LTE_Diferenciada&CobEx&ATT_ALPHA.tab\n",
      "Coberturas\\AT&T\\AT&T\\AT&TSept21LTE_IFT\\Diferenciada _ CobBex & ATT_ALPHA_LTE Sept21\\R2Sept21LTE_Diferenciada&CobEx.tab\n",
      "Coberturas\\AT&T\\AT&T\\AT&TSept21LTE_IFT\\Diferenciada _ CobBex & ATT_ALPHA_LTE Sept21\\R3Sept21LTE_Diferenciada&CobEx&ATT_ALPHA.tab\n",
      "Coberturas\\AT&T\\AT&T\\AT&TSept21LTE_IFT\\Diferenciada _ CobBex & ATT_ALPHA_LTE Sept21\\R4Sept21LTE_Diferenciada&CobEx&ATT_ALPHA.tab\n",
      "Coberturas\\AT&T\\AT&T\\AT&TSept21LTE_IFT\\Diferenciada _ CobBex & ATT_ALPHA_LTE Sept21\\R5Sept21LTE_Diferenciada&CobEx.tab\n",
      "Coberturas\\AT&T\\AT&T\\AT&TSept21LTE_IFT\\Diferenciada _ CobBex & ATT_ALPHA_LTE Sept21\\R6Sept21LTE_Diferenciada&CobEx.tab\n",
      "Coberturas\\AT&T\\AT&T\\AT&TSept21LTE_IFT\\Diferenciada _ CobBex & ATT_ALPHA_LTE Sept21\\R7Sept21LTE_Diferenciada&CobEx.tab\n",
      "Coberturas\\AT&T\\AT&T\\AT&TSept21LTE_IFT\\Diferenciada _ CobBex & ATT_ALPHA_LTE Sept21\\R8Sept21LTE_Diferenciada&CobEx&ATT_ALPHA.tab\n",
      "Coberturas\\AT&T\\AT&T\\AT&TSept21LTE_IFT\\Diferenciada _ CobBex & ATT_ALPHA_LTE Sept21\\R9Sept21LTE_Diferenciada&CobEx.tab\n",
      "Coberturas\\AT&T\\AT&T\\AT&TSept21LTE_IFT\\Garantizada LTE Sept21\\R1Sept21LTE_Garantizada.tab\n",
      "Coberturas\\AT&T\\AT&T\\AT&TSept21LTE_IFT\\Garantizada LTE Sept21\\R2Sept21LTE_Garantizada.tab\n",
      "Coberturas\\AT&T\\AT&T\\AT&TSept21LTE_IFT\\Garantizada LTE Sept21\\R3Sept21LTE_Garantizada.tab\n",
      "Coberturas\\AT&T\\AT&T\\AT&TSept21LTE_IFT\\Garantizada LTE Sept21\\R4Sept21LTE_Garantizada.tab\n",
      "Coberturas\\AT&T\\AT&T\\AT&TSept21LTE_IFT\\Garantizada LTE Sept21\\R5Sept21LTE_Garantizada.tab\n",
      "Coberturas\\AT&T\\AT&T\\AT&TSept21LTE_IFT\\Garantizada LTE Sept21\\R6Sept21LTE_Garantizada.tab\n",
      "Coberturas\\AT&T\\AT&T\\AT&TSept21LTE_IFT\\Garantizada LTE Sept21\\R7Sept21LTE_Garantizada.tab\n",
      "Coberturas\\AT&T\\AT&T\\AT&TSept21LTE_IFT\\Garantizada LTE Sept21\\R8Sept21LTE_Garantizada.tab\n",
      "Coberturas\\AT&T\\AT&T\\AT&TSept21LTE_IFT\\Garantizada LTE Sept21\\R9Sept21LTE_Garantizada.tab\n",
      "Coberturas\\Pegaso PCS\\Pegaso PCS\\Cob Nacional_3G_3Q2021\\Cobertura Nacional Garantizada 3G 3Q2021\\Cob_Gar_85_3G_3Q 2021.tab\n",
      "Coberturas\\Pegaso PCS\\Pegaso PCS\\Cob Nacional_3G_3Q2021\\Cobertura Nacional No Garantizada 3G 3Q2021\\Cob_No_Gar_96_3G_3Q 2021.tab\n",
      "Coberturas\\Pegaso PCS\\Pegaso PCS\\Cob Nacional_LTE_3Q2021\\Cobertura Nacional Garantizada LTE 3Q2021\\Cob_Gar_97_Nacional_LTE_3Q 2021.tab\n",
      "Coberturas\\Pegaso PCS\\Pegaso PCS\\Cob Nacional_LTE_3Q2021\\Cobertura Nacional No Garantizada LTE 3Q2021\\Cob_NoGar_110_Nacional_LTE_3Q 2021.tab\n",
      "Coberturas\\Pegaso PCS\\Pegaso PCS\\Cob Nacional_LTE_3Q2021\\Cobertura Nacional Rangos IFT LTE 3Q2021\\Cob_IFT Rangos_LTE_3Q 2021.tab\n",
      "Coberturas\\Telcel\\LTE Diferenciada\\COBERTURA DIFERENCIADA LTE 4T2021.TAB\n",
      "Coberturas\\Telcel\\LTE Garantizada\\COBERTURA GARANTIZADA LTE 4T2021.TAB\n",
      "Coberturas\\Telcel\\UMTS Diferenciada\\COBERTURA DIFERENCIADA UMTS 4T2021.TAB\n",
      "Coberturas\\Telcel\\UMTS Garantizada\\COBERTURA GARANTIZADA UMTS 4T2021.TAB\n",
      "CPU times: total: 32min 54s\n",
      "Wall time: -1.83e+13 ns\n"
     ]
    }
   ],
   "source": [
    "%%time\n",
    "for Region in strMaps:\n",
    "    print(Region)\n",
    "    gfName = Region[0: -len(BASE_EX)]\n",
    "    gpRegion = gpd.read_file(Region)\n",
    "    gpProyRegion = gpRegion.to_crs(epsg = BASE_CRS)\n",
    "    gf.to_geofeather(gpProyRegion, gfName + '.feather')"
   ]
  },
  {
   "cell_type": "code",
   "execution_count": null,
   "id": "99b204fc-794b-4f0d-abae-b5f6f0700e9e",
   "metadata": {},
   "outputs": [],
   "source": []
  }
 ],
 "metadata": {
  "kernelspec": {
   "display_name": "Python 3 (ipykernel)",
   "language": "python",
   "name": "python3"
  },
  "language_info": {
   "codemirror_mode": {
    "name": "ipython",
    "version": 3
   },
   "file_extension": ".py",
   "mimetype": "text/x-python",
   "name": "python",
   "nbconvert_exporter": "python",
   "pygments_lexer": "ipython3",
   "version": "3.10.2"
  }
 },
 "nbformat": 4,
 "nbformat_minor": 5
}
