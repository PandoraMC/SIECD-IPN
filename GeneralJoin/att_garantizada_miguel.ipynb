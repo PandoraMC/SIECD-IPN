{
 "cells": [
  {
   "cell_type": "code",
   "execution_count": 1,
   "metadata": {},
   "outputs": [],
   "source": [
    "import geopandas as gpd\n",
    "import pandas as pd"
   ]
  },
  {
   "cell_type": "code",
   "execution_count": 15,
   "metadata": {},
   "outputs": [],
   "source": [
    "gdfR1 = gpd.read_file('AT&TGarantizada LTE Sept21\\R1Sept21LTE_Garantizada.tab')\n",
    "gdfR2 = gpd.read_file('AT&TGarantizada LTE Sept21\\R2Sept21LTE_Garantizada.tab')\n",
    "gdfR3 = gpd.read_file('AT&TGarantizada LTE Sept21\\R3Sept21LTE_Garantizada.tab')\n",
    "gdfR4 = gpd.read_file('AT&TGarantizada LTE Sept21\\R4Sept21LTE_Garantizada.tab')\n",
    "gdfR5 = gpd.read_file('AT&TGarantizada LTE Sept21\\R5Sept21LTE_Garantizada.tab')\n",
    "gdfR6 = gpd.read_file('AT&TGarantizada LTE Sept21\\R6Sept21LTE_Garantizada.tab')\n",
    "gdfR7 = gpd.read_file('AT&TGarantizada LTE Sept21\\R7Sept21LTE_Garantizada.tab')\n",
    "gdfR8 = gpd.read_file('AT&TGarantizada LTE Sept21\\R8Sept21LTE_Garantizada.tab')\n",
    "gdfR9 = gpd.read_file('AT&TGarantizada LTE Sept21\\R9Sept21LTE_Garantizada.tab')"
   ]
  },
  {
   "cell_type": "code",
   "execution_count": 3,
   "metadata": {},
   "outputs": [],
   "source": [
    "gdfloc = gpd.read_file('ITER 2020\\LOCALIDADES_MGN20_ITER20.tab')"
   ]
  },
  {
   "cell_type": "code",
   "execution_count": 4,
   "metadata": {},
   "outputs": [],
   "source": [
    "gdfR1.to_crs('EPSG:4326', inplace=True)\n",
    "gdfR2.to_crs('EPSG:4326', inplace=True)\n",
    "gdfR3.to_crs('EPSG:4326', inplace=True)\n",
    "gdfR4.to_crs('EPSG:4326', inplace=True)\n",
    "gdfR5.to_crs('EPSG:4326', inplace=True)\n",
    "gdfR6.to_crs('EPSG:4326', inplace=True)\n",
    "gdfR7.to_crs('EPSG:4326', inplace=True)\n",
    "gdfR8.to_crs('EPSG:4326', inplace=True)\n",
    "gdfR9.to_crs('EPSG:4326', inplace=True)\n",
    "gdfloc.to_crs('EPSG:4326', inplace=True)"
   ]
  },
  {
   "cell_type": "code",
   "execution_count": 28,
   "metadata": {},
   "outputs": [
    {
     "data": {
      "text/plain": [
       "(1, 2)"
      ]
     },
     "execution_count": 28,
     "metadata": {},
     "output_type": "execute_result"
    }
   ],
   "source": [
    "gdfR2.shape"
   ]
  },
  {
   "cell_type": "code",
   "execution_count": 5,
   "metadata": {},
   "outputs": [
    {
     "data": {
      "text/plain": [
       "(300690, 16)"
      ]
     },
     "execution_count": 5,
     "metadata": {},
     "output_type": "execute_result"
    }
   ],
   "source": [
    "gdfjoinedv1 =  gdfloc.sjoin(gdfR1, how='left')\n",
    "gdfjoinedv2 =  gdfloc.sjoin(gdfR2, how='left')\n",
    "gdfjoinedv3 = gdfloc.sjoin(gdfR3, how='left')\n",
    "gdfjoinedv4 = gdfloc.sjoin(gdfR4, how='left')\n",
    "gdfjoinedv5 = gdfloc.sjoin(gdfR5, how='left')\n",
    "gdfjoinedv6 = gdfloc.sjoin(gdfR6, how='left')\n",
    "gdfjoinedv7 = gdfloc.sjoin(gdfR7, how='left')\n",
    "gdfjoinedv8 = gdfloc.sjoin(gdfR8, how='left')\n",
    "gdfjoinedv9 = gdfloc.sjoin(gdfR9, how='left')"
   ]
  },
  {
   "cell_type": "code",
   "execution_count": 30,
   "metadata": {},
   "outputs": [
    {
     "data": {
      "text/plain": [
       "array([nan,  0.])"
      ]
     },
     "execution_count": 30,
     "metadata": {},
     "output_type": "execute_result"
    }
   ],
   "source": [
    "gdfjoinedv9['index_right'].unique()"
   ]
  },
  {
   "cell_type": "code",
   "execution_count": 14,
   "metadata": {},
   "outputs": [
    {
     "data": {
      "text/plain": [
       "Index(['CVE_ENT', 'CVE_MUN', 'CVEU_MUN', 'CVE_LOC', 'CVEU_LOC', 'NOM_ENT',\n",
       "       'NOM_MUN', 'NOM_LOC', 'POBTOT_20', 'RANKPOB_20', 'POBMAY_5K', 'ITER20',\n",
       "       'FUENTE', 'geometry', 'index_right', 'LEGEND'],\n",
       "      dtype='object')"
      ]
     },
     "execution_count": 14,
     "metadata": {},
     "output_type": "execute_result"
    }
   ],
   "source": [
    "gdfjoinedv1.columns"
   ]
  },
  {
   "cell_type": "code",
   "execution_count": 16,
   "metadata": {},
   "outputs": [],
   "source": [
    "gdfjoinedv1.fillna(9999,inplace=True)\n",
    "gdfjoinedv2.fillna(9999,inplace=True)\n",
    "gdfjoinedv3.fillna(9999,inplace=True)\n",
    "gdfjoinedv4.fillna(9999,inplace=True)\n",
    "gdfjoinedv5.fillna(9999,inplace=True)\n",
    "gdfjoinedv6.fillna(9999,inplace=True)\n",
    "gdfjoinedv7.fillna(9999,inplace=True)\n",
    "gdfjoinedv8.fillna(9999,inplace=True)\n",
    "gdfjoinedv9.fillna(9999,inplace=True)"
   ]
  }
 ],
 "metadata": {
  "interpreter": {
   "hash": "db0ef3db1ce1983813e427db1c961cdc4a0d1617cdd069c3a075a25cf23e11de"
  },
  "kernelspec": {
   "display_name": "Python 3 (ipykernel)",
   "language": "python",
   "name": "python3"
  },
  "language_info": {
   "codemirror_mode": {
    "name": "ipython",
    "version": 3
   },
   "file_extension": ".py",
   "mimetype": "text/x-python",
   "name": "python",
   "nbconvert_exporter": "python",
   "pygments_lexer": "ipython3",
   "version": "3.10.2"
  }
 },
 "nbformat": 4,
 "nbformat_minor": 4
}
